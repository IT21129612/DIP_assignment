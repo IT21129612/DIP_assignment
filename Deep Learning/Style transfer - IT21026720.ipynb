{
 "cells": [
  {
   "cell_type": "code",
   "execution_count": 1,
   "id": "de99952c",
   "metadata": {},
   "outputs": [],
   "source": [
    "import tkinter as tk\n",
    "from tkinter import filedialog\n",
    "from PIL import Image, ImageTk\n",
    "import tensorflow as tf\n",
    "import tensorflow_hub as hub\n",
    "import numpy as np\n",
    "from matplotlib import pyplot as plt"
   ]
  },
  {
   "cell_type": "code",
   "execution_count": 2,
   "id": "a1cf11c5",
   "metadata": {},
   "outputs": [],
   "source": [
    "model = hub.load('https://tfhub.dev/google/magenta/arbitrary-image-stylization-v1-256/2')"
   ]
  },
  {
   "cell_type": "code",
   "execution_count": 4,
   "id": "49f8f20a",
   "metadata": {
    "scrolled": true
   },
   "outputs": [],
   "source": [
    "\n",
    "def apply_style_transfer():\n",
    "    content_path = content_entry.get()\n",
    "    style_path = style_entry.get()\n",
    "    if not content_path or not style_path:\n",
    "        return\n",
    "\n",
    "    content_image = load_image(content_path)\n",
    "    style_image = load_image(style_path)\n",
    "\n",
    "    stylized_image = model(tf.constant(content_image), tf.constant(style_image))[0]\n",
    "\n",
    "    # Display the stylized image\n",
    "    stylized_img = Image.fromarray(np.uint8(np.squeeze(stylized_image) * 255))\n",
    "    stylized_img = stylized_img.resize((400, 400))\n",
    "    stylized_img = ImageTk.PhotoImage(stylized_img)\n",
    "\n",
    "    result_label.config(image=stylized_img)\n",
    "    result_label.image = stylized_img\n",
    "\n",
    "# Function to reset displayed images\n",
    "def reset_images():\n",
    "    content_entry.delete(0, tk.END)\n",
    "    style_entry.delete(0, tk.END)\n",
    "    result_label.config(image=None)\n",
    "\n",
    "# Function to open a file dialog for image selection\n",
    "def open_image(entry_widget):\n",
    "    file_path = filedialog.askopenfilename()\n",
    "    entry_widget.delete(0, tk.END)\n",
    "    entry_widget.insert(0, file_path)\n",
    "\n",
    "# Function to load and preprocess an image\n",
    "def load_image(img_path):\n",
    "    img = tf.io.read_file(img_path)\n",
    "    img = tf.image.decode_image(img, channels=3)\n",
    "    img = tf.image.convert_image_dtype(img, tf.float32)\n",
    "    img = img[tf.newaxis, :]\n",
    "    return img\n",
    "\n",
    "# Create the Tkinter window\n",
    "root = tk.Tk()\n",
    "root.title(\"Style Transfer Application\")\n",
    "\n",
    "# Create labels and entry fields for content and style images\n",
    "content_label = tk.Label(root, text=\"Content Image:\")\n",
    "content_label.pack()\n",
    "content_entry = tk.Entry(root)\n",
    "content_entry.pack()\n",
    "content_button = tk.Button(root, text=\"Open Content Image\", command=lambda: open_image(content_entry))\n",
    "content_button.pack()\n",
    "\n",
    "style_label = tk.Label(root, text=\"Style Image:\")\n",
    "style_label.pack()\n",
    "style_entry = tk.Entry(root)\n",
    "style_entry.pack()\n",
    "style_button = tk.Button(root, text=\"Open Style Image\", command=lambda: open_image(style_entry))\n",
    "style_button.pack()\n",
    "\n",
    "# Create a button for style transfer\n",
    "transfer_button = tk.Button(root, text=\"Apply Style Transfer\", command=apply_style_transfer)\n",
    "transfer_button.pack()\n",
    "\n",
    "# Create a \"Reset\" button\n",
    "reset_button = tk.Button(root, text=\"Reset\", command=reset_images)\n",
    "reset_button.pack()\n",
    "\n",
    "# Create a label to display the stylized image\n",
    "result_label = tk.Label(root)\n",
    "result_label.pack()\n",
    "\n",
    "root.mainloop()\n"
   ]
  },
  {
   "cell_type": "code",
   "execution_count": null,
   "id": "873fdaaf",
   "metadata": {},
   "outputs": [],
   "source": []
  },
  {
   "cell_type": "code",
   "execution_count": null,
   "id": "c52e9a6f",
   "metadata": {},
   "outputs": [],
   "source": []
  }
 ],
 "metadata": {
  "kernelspec": {
   "display_name": "Python 3 (ipykernel)",
   "language": "python",
   "name": "python3"
  },
  "language_info": {
   "codemirror_mode": {
    "name": "ipython",
    "version": 3
   },
   "file_extension": ".py",
   "mimetype": "text/x-python",
   "name": "python",
   "nbconvert_exporter": "python",
   "pygments_lexer": "ipython3",
   "version": "3.10.13"
  }
 },
 "nbformat": 4,
 "nbformat_minor": 5
}
